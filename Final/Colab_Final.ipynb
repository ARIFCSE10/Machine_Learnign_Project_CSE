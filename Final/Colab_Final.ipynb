{
  "nbformat": 4,
  "nbformat_minor": 0,
  "metadata": {
    "colab": {
      "name": "Untitled0.ipynb",
      "provenance": [],
      "collapsed_sections": [],
      "toc_visible": true
    },
    "kernelspec": {
      "name": "python3",
      "display_name": "Python 3"
    },
    "accelerator": "GPU"
  },
  "cells": [
    {
      "cell_type": "markdown",
      "metadata": {
        "id": "Q3LIoWdmWuOd",
        "colab_type": "text"
      },
      "source": [
        "# Mount Google Drive"
      ]
    },
    {
      "cell_type": "code",
      "metadata": {
        "id": "Uva51NEQR5Aa",
        "colab_type": "code",
        "colab": {}
      },
      "source": [
        "!zip -r all_output_images.zip output"
      ],
      "execution_count": 0,
      "outputs": []
    },
    {
      "cell_type": "code",
      "metadata": {
        "id": "UBpFKjwWGgnd",
        "colab_type": "code",
        "colab": {
          "base_uri": "https://localhost:8080/",
          "height": 122
        },
        "outputId": "99661b2d-a5bf-4e4e-84c8-7b5b473dec67"
      },
      "source": [
        "from google.colab import drive\n",
        "drive.mount('/content/drive')"
      ],
      "execution_count": 1,
      "outputs": [
        {
          "output_type": "stream",
          "text": [
            "Go to this URL in a browser: https://accounts.google.com/o/oauth2/auth?client_id=947318989803-6bn6qk8qdgf4n4g3pfee6491hc0brc4i.apps.googleusercontent.com&redirect_uri=urn%3aietf%3awg%3aoauth%3a2.0%3aoob&response_type=code&scope=email%20https%3a%2f%2fwww.googleapis.com%2fauth%2fdocs.test%20https%3a%2f%2fwww.googleapis.com%2fauth%2fdrive%20https%3a%2f%2fwww.googleapis.com%2fauth%2fdrive.photos.readonly%20https%3a%2f%2fwww.googleapis.com%2fauth%2fpeopleapi.readonly\n",
            "\n",
            "Enter your authorization code:\n",
            "··········\n",
            "Mounted at /content/drive\n"
          ],
          "name": "stdout"
        }
      ]
    },
    {
      "cell_type": "markdown",
      "metadata": {
        "id": "4PeCL-3WWxUJ",
        "colab_type": "text"
      },
      "source": [
        "# Install OpenCV"
      ]
    },
    {
      "cell_type": "code",
      "metadata": {
        "id": "ldgoqhjSHn8n",
        "colab_type": "code",
        "colab": {
          "base_uri": "https://localhost:8080/",
          "height": 71
        },
        "outputId": "6af39f55-e849-4605-d3b0-ead027240ec5"
      },
      "source": [
        "!pip install opencv-python"
      ],
      "execution_count": 2,
      "outputs": [
        {
          "output_type": "stream",
          "text": [
            "Requirement already satisfied: opencv-python in /usr/local/lib/python3.6/dist-packages (4.1.2.30)\n",
            "Requirement already satisfied: numpy>=1.11.3 in /usr/local/lib/python3.6/dist-packages (from opencv-python) (1.17.4)\n"
          ],
          "name": "stdout"
        }
      ]
    },
    {
      "cell_type": "markdown",
      "metadata": {
        "id": "h_YGuFGGW0Fz",
        "colab_type": "text"
      },
      "source": [
        "## Define Base Directory"
      ]
    },
    {
      "cell_type": "code",
      "metadata": {
        "id": "P7xRly6vHqdl",
        "colab_type": "code",
        "colab": {}
      },
      "source": [
        "BASE_DIR = \"/content/\""
      ],
      "execution_count": 0,
      "outputs": []
    },
    {
      "cell_type": "markdown",
      "metadata": {
        "id": "VJ13Z_GcW3f7",
        "colab_type": "text"
      },
      "source": [
        "## Make Initial Project Directory"
      ]
    },
    {
      "cell_type": "code",
      "metadata": {
        "id": "mkvSxUpukY-7",
        "colab_type": "code",
        "colab": {
          "base_uri": "https://localhost:8080/",
          "height": 85
        },
        "outputId": "34458132-6304-4c1a-ffe9-ebccea0bb149"
      },
      "source": [
        "!mkdir input\n",
        "!mkdir input/src\n",
        "!mkdir input/dest\n",
        "!mkdir output\n",
        "!mkdir output/src\n",
        "!mkdir output/dest\n",
        "!mkdir output/mask\n",
        "!mkdir output/final\n",
        "!mkdir ml"
      ],
      "execution_count": 12,
      "outputs": [
        {
          "output_type": "stream",
          "text": [
            "mkdir: cannot create directory ‘input’: File exists\n",
            "mkdir: cannot create directory ‘input/src’: File exists\n",
            "mkdir: cannot create directory ‘input/dest’: File exists\n",
            "mkdir: cannot create directory ‘ml’: File exists\n"
          ],
          "name": "stdout"
        }
      ]
    },
    {
      "cell_type": "markdown",
      "metadata": {
        "id": "qKoGIMdwZmWv",
        "colab_type": "text"
      },
      "source": [
        "# 0.1 Copy Source Video From Drive"
      ]
    },
    {
      "cell_type": "code",
      "metadata": {
        "id": "qG2I4AWCZrzc",
        "colab_type": "code",
        "colab": {}
      },
      "source": [
        "!cp \"/content/drive/My Drive/Final_Projects/ML/Input/src_1.mp4\" /content/input/src/src_1.mp4"
      ],
      "execution_count": 0,
      "outputs": []
    },
    {
      "cell_type": "markdown",
      "metadata": {
        "id": "ba30CURsZ3Wq",
        "colab_type": "text"
      },
      "source": [
        "# 0.2 Copy Destination Video from Drive"
      ]
    },
    {
      "cell_type": "code",
      "metadata": {
        "id": "SN1f--4fZ62A",
        "colab_type": "code",
        "colab": {}
      },
      "source": [
        "!cp \"/content/drive/My Drive/Final_Projects/ML/Input/dest_1.mp4\" /content/input/dest/dest_1.mp4"
      ],
      "execution_count": 0,
      "outputs": []
    },
    {
      "cell_type": "markdown",
      "metadata": {
        "id": "iaRIrjjBY-nA",
        "colab_type": "text"
      },
      "source": [
        "# 1.1 Source Video to Image Convertion"
      ]
    },
    {
      "cell_type": "code",
      "metadata": {
        "id": "qZKFqv3rZIyl",
        "colab_type": "code",
        "colab": {
          "base_uri": "https://localhost:8080/",
          "height": 68
        },
        "outputId": "3a0358c2-c41a-407c-f22e-4a9188608435"
      },
      "source": [
        "import cv2\n",
        "\n",
        "property_id = int(cv2.CAP_PROP_FRAME_COUNT)\n",
        "print(property_id)\n",
        "cap1 = cv2.VideoCapture(BASE_DIR+\"input/src/src_1.mp4\")\n",
        "src_len = int(cv2.VideoCapture.get(cap1, property_id))\n",
        "print(\"No Of Frames:\" , src_len)\n",
        "\n",
        "success,image = cap1.read()\n",
        "count = 0;\n",
        "while success:\n",
        "    success,image = cap1.read()\n",
        "    if image is not None:\n",
        "        resized_image = cv2.resize(image,(720, 720),fx=0,fy=0, interpolation = cv2.INTER_CUBIC)   #resize image\n",
        "        cv2.imwrite(BASE_DIR+\"output/src/frame_%d.jpg\" % count, resized_image)     # save frame as JPEG file\n",
        "        if count == src_len-2:\n",
        "            break\n",
        "        count += 1\n",
        "\n",
        "print(\"Source Images Saved\")"
      ],
      "execution_count": 13,
      "outputs": [
        {
          "output_type": "stream",
          "text": [
            "7\n",
            "No Of Frames: 456\n",
            "Source Images Saved\n"
          ],
          "name": "stdout"
        }
      ]
    },
    {
      "cell_type": "markdown",
      "metadata": {
        "id": "I-zXw1xNaLZL",
        "colab_type": "text"
      },
      "source": [
        "# 1.2 Destination Video to Image Convertion"
      ]
    },
    {
      "cell_type": "code",
      "metadata": {
        "id": "grAvJgeTaQD-",
        "colab_type": "code",
        "colab": {
          "base_uri": "https://localhost:8080/",
          "height": 68
        },
        "outputId": "00bd88fd-fd72-4d94-a19c-aeca7637e403"
      },
      "source": [
        "property_id = int(cv2.CAP_PROP_FRAME_COUNT)\n",
        "print(property_id)\n",
        "cap1 = cv2.VideoCapture(BASE_DIR+\"input/dest/dest_1.mp4\")\n",
        "dest_len = int(cv2.VideoCapture.get(cap1, property_id))\n",
        "print(\"No Of Frames:\" , dest_len)\n",
        "\n",
        "success,image = cap1.read()\n",
        "count = 0;\n",
        "while success:\n",
        "    success,image = cap1.read()\n",
        "    if image is not None:\n",
        "        resized_image = cv2.resize(image,(720, 720),fx=0,fy=0, interpolation = cv2.INTER_CUBIC)   #resize image\n",
        "        cv2.imwrite(BASE_DIR+\"output/dest/frame_%d.jpg\" % count, resized_image)     # save frame as JPEG file\n",
        "        if cv2.waitKey(10) == 27:                     # exit if Escape is hit\n",
        "            break\n",
        "        if count == dest_len-2:\n",
        "            break\n",
        "        count += 1\n",
        "\n",
        "print(\"Dest Images Saved\")"
      ],
      "execution_count": 18,
      "outputs": [
        {
          "output_type": "stream",
          "text": [
            "7\n",
            "No Of Frames: 453\n",
            "Dest Images Saved\n"
          ],
          "name": "stdout"
        }
      ]
    },
    {
      "cell_type": "markdown",
      "metadata": {
        "id": "J5FmNnbtdlNO",
        "colab_type": "text"
      },
      "source": [
        "# 1.3 Define NO_OF_FRAMES To Process"
      ]
    },
    {
      "cell_type": "code",
      "metadata": {
        "id": "wafCkOatd35j",
        "colab_type": "code",
        "colab": {}
      },
      "source": [
        "NO_OF_FRAMES = min(src_len,dest_len) - 2\n",
        "NO_OF_FRAMES"
      ],
      "execution_count": 0,
      "outputs": []
    },
    {
      "cell_type": "markdown",
      "metadata": {
        "id": "_koF-7GCaaCE",
        "colab_type": "text"
      },
      "source": [
        "# 2.0 Install ML Releated Libs"
      ]
    },
    {
      "cell_type": "code",
      "metadata": {
        "id": "Q7Wa0l7bHR_X",
        "colab_type": "code",
        "colab": {
          "base_uri": "https://localhost:8080/",
          "height": 564
        },
        "outputId": "b1711462-cde9-4053-b8ab-e4303d7ad543"
      },
      "source": [
        "!pip install keras tensorflow numpy matplotlib pillow"
      ],
      "execution_count": 20,
      "outputs": [
        {
          "output_type": "stream",
          "text": [
            "Requirement already satisfied: keras in /usr/local/lib/python3.6/dist-packages (2.2.5)\n",
            "Requirement already satisfied: tensorflow in /usr/local/lib/python3.6/dist-packages (1.15.0)\n",
            "Requirement already satisfied: numpy in /usr/local/lib/python3.6/dist-packages (1.17.4)\n",
            "Requirement already satisfied: matplotlib in /usr/local/lib/python3.6/dist-packages (3.1.2)\n",
            "Requirement already satisfied: pillow in /usr/local/lib/python3.6/dist-packages (4.3.0)\n",
            "Requirement already satisfied: keras-applications>=1.0.8 in /usr/local/lib/python3.6/dist-packages (from keras) (1.0.8)\n",
            "Requirement already satisfied: h5py in /usr/local/lib/python3.6/dist-packages (from keras) (2.8.0)\n",
            "Requirement already satisfied: keras-preprocessing>=1.1.0 in /usr/local/lib/python3.6/dist-packages (from keras) (1.1.0)\n",
            "Requirement already satisfied: scipy>=0.14 in /usr/local/lib/python3.6/dist-packages (from keras) (1.3.3)\n",
            "Requirement already satisfied: six>=1.9.0 in /usr/local/lib/python3.6/dist-packages (from keras) (1.12.0)\n",
            "Requirement already satisfied: pyyaml in /usr/local/lib/python3.6/dist-packages (from keras) (3.13)\n",
            "Requirement already satisfied: absl-py>=0.7.0 in /usr/local/lib/python3.6/dist-packages (from tensorflow) (0.8.1)\n",
            "Requirement already satisfied: google-pasta>=0.1.6 in /usr/local/lib/python3.6/dist-packages (from tensorflow) (0.1.8)\n",
            "Requirement already satisfied: gast==0.2.2 in /usr/local/lib/python3.6/dist-packages (from tensorflow) (0.2.2)\n",
            "Requirement already satisfied: tensorflow-estimator==1.15.1 in /usr/local/lib/python3.6/dist-packages (from tensorflow) (1.15.1)\n",
            "Requirement already satisfied: termcolor>=1.1.0 in /usr/local/lib/python3.6/dist-packages (from tensorflow) (1.1.0)\n",
            "Requirement already satisfied: wrapt>=1.11.1 in /usr/local/lib/python3.6/dist-packages (from tensorflow) (1.11.2)\n",
            "Requirement already satisfied: protobuf>=3.6.1 in /usr/local/lib/python3.6/dist-packages (from tensorflow) (3.10.0)\n",
            "Requirement already satisfied: tensorboard<1.16.0,>=1.15.0 in /usr/local/lib/python3.6/dist-packages (from tensorflow) (1.15.0)\n",
            "Requirement already satisfied: astor>=0.6.0 in /usr/local/lib/python3.6/dist-packages (from tensorflow) (0.8.1)\n",
            "Requirement already satisfied: opt-einsum>=2.3.2 in /usr/local/lib/python3.6/dist-packages (from tensorflow) (3.1.0)\n",
            "Requirement already satisfied: wheel>=0.26 in /usr/local/lib/python3.6/dist-packages (from tensorflow) (0.33.6)\n",
            "Requirement already satisfied: grpcio>=1.8.6 in /usr/local/lib/python3.6/dist-packages (from tensorflow) (1.15.0)\n",
            "Requirement already satisfied: pyparsing!=2.0.4,!=2.1.2,!=2.1.6,>=2.0.1 in /usr/local/lib/python3.6/dist-packages (from matplotlib) (2.4.5)\n",
            "Requirement already satisfied: python-dateutil>=2.1 in /usr/local/lib/python3.6/dist-packages (from matplotlib) (2.6.1)\n",
            "Requirement already satisfied: cycler>=0.10 in /usr/local/lib/python3.6/dist-packages (from matplotlib) (0.10.0)\n",
            "Requirement already satisfied: kiwisolver>=1.0.1 in /usr/local/lib/python3.6/dist-packages (from matplotlib) (1.1.0)\n",
            "Requirement already satisfied: olefile in /usr/local/lib/python3.6/dist-packages (from pillow) (0.46)\n",
            "Requirement already satisfied: setuptools in /usr/local/lib/python3.6/dist-packages (from protobuf>=3.6.1->tensorflow) (42.0.2)\n",
            "Requirement already satisfied: markdown>=2.6.8 in /usr/local/lib/python3.6/dist-packages (from tensorboard<1.16.0,>=1.15.0->tensorflow) (3.1.1)\n",
            "Requirement already satisfied: werkzeug>=0.11.15 in /usr/local/lib/python3.6/dist-packages (from tensorboard<1.16.0,>=1.15.0->tensorflow) (0.16.0)\n"
          ],
          "name": "stdout"
        }
      ]
    },
    {
      "cell_type": "markdown",
      "metadata": {
        "id": "ECt9ZdhTajCe",
        "colab_type": "text"
      },
      "source": [
        "# 2.1 Add Source Code Directory to System Path"
      ]
    },
    {
      "cell_type": "code",
      "metadata": {
        "id": "p5R6YTJfadhu",
        "colab_type": "code",
        "colab": {
          "base_uri": "https://localhost:8080/",
          "height": 187
        },
        "outputId": "da5f68e9-ee09-4a66-97fa-ad7bc9c4c140"
      },
      "source": [
        "import sys\n",
        "sys.path.append(\"/content/ml/\")\n",
        "sys.path"
      ],
      "execution_count": 21,
      "outputs": [
        {
          "output_type": "execute_result",
          "data": {
            "text/plain": [
              "['',\n",
              " '/env/python',\n",
              " '/usr/lib/python36.zip',\n",
              " '/usr/lib/python3.6',\n",
              " '/usr/lib/python3.6/lib-dynload',\n",
              " '/usr/local/lib/python3.6/dist-packages',\n",
              " '/usr/lib/python3/dist-packages',\n",
              " '/usr/local/lib/python3.6/dist-packages/IPython/extensions',\n",
              " '/root/.ipython',\n",
              " '/content/ml/']"
            ]
          },
          "metadata": {
            "tags": []
          },
          "execution_count": 21
        }
      ]
    },
    {
      "cell_type": "markdown",
      "metadata": {
        "id": "__q7M6h-bKZi",
        "colab_type": "text"
      },
      "source": [
        "# 2.2 Copy Deeplab Model Codes to ML Directory"
      ]
    },
    {
      "cell_type": "code",
      "metadata": {
        "id": "7TsSfo15bJ1C",
        "colab_type": "code",
        "colab": {}
      },
      "source": [
        "!cp -r \"/content/drive/My Drive/Final_Projects/ML/Codes/extract_weights.py\" /content/ml/\n",
        "!cp -r \"/content/drive/My Drive/Final_Projects/ML/Codes/load_weights.py\" /content/ml/\n",
        "!cp -r \"/content/drive/My Drive/Final_Projects/ML/Codes/model.py\" /content/ml/"
      ],
      "execution_count": 0,
      "outputs": []
    },
    {
      "cell_type": "markdown",
      "metadata": {
        "id": "4e4RQceSdB1s",
        "colab_type": "text"
      },
      "source": [
        "# 2.3 Import ML Related Libs"
      ]
    },
    {
      "cell_type": "code",
      "metadata": {
        "id": "FGZG_R3aG493",
        "colab_type": "code",
        "outputId": "baff6dd6-8646-4791-f68d-9e5fc53a1c87",
        "colab": {
          "base_uri": "https://localhost:8080/",
          "height": 80
        }
      },
      "source": [
        "import numpy as np\n",
        "from PIL import Image\n",
        "from matplotlib import pyplot as plt\n",
        "from model import Deeplabv3 as DL\n",
        "import glob\n",
        "import cv2"
      ],
      "execution_count": 23,
      "outputs": [
        {
          "output_type": "display_data",
          "data": {
            "text/html": [
              "<p style=\"color: red;\">\n",
              "The default version of TensorFlow in Colab will soon switch to TensorFlow 2.x.<br>\n",
              "We recommend you <a href=\"https://www.tensorflow.org/guide/migrate\" target=\"_blank\">upgrade</a> now \n",
              "or ensure your notebook will continue to use TensorFlow 1.x via the <code>%tensorflow_version 1.x</code> magic:\n",
              "<a href=\"https://colab.research.google.com/notebooks/tensorflow_version.ipynb\" target=\"_blank\">more info</a>.</p>\n"
            ],
            "text/plain": [
              "<IPython.core.display.HTML object>"
            ]
          },
          "metadata": {
            "tags": []
          }
        }
      ]
    },
    {
      "cell_type": "markdown",
      "metadata": {
        "id": "DWFhJzLzdLuu",
        "colab_type": "text"
      },
      "source": [
        "# 2.4 Initialize DeeplabV3 Model with Input Sizes"
      ]
    },
    {
      "cell_type": "code",
      "metadata": {
        "id": "WRkeqgC5HO4H",
        "colab_type": "code",
        "outputId": "dff04c83-176c-48eb-e1f7-1472e868074c",
        "colab": {
          "base_uri": "https://localhost:8080/",
          "height": 139
        }
      },
      "source": [
        "deeplab_model = DL(input_shape=(720, 720, 3))\n",
        "deeplab_model"
      ],
      "execution_count": 24,
      "outputs": [
        {
          "output_type": "stream",
          "text": [
            "WARNING:tensorflow:From /usr/local/lib/python3.6/dist-packages/tensorflow_core/python/ops/resource_variable_ops.py:1630: calling BaseResourceVariable.__init__ (from tensorflow.python.ops.resource_variable_ops) with constraint is deprecated and will be removed in a future version.\n",
            "Instructions for updating:\n",
            "If using Keras pass *_constraint arguments to layers.\n",
            "Downloading data from https://github.com/bonlime/keras-deeplab-v3-plus/releases/download/1.1/deeplabv3_xception_tf_dim_ordering_tf_kernels.h5\n",
            "166100992/166096424 [==============================] - 12s 0us/step\n"
          ],
          "name": "stdout"
        },
        {
          "output_type": "execute_result",
          "data": {
            "text/plain": [
              "<tensorflow.python.keras.engine.training.Model at 0x7fe9f74e9748>"
            ]
          },
          "metadata": {
            "tags": []
          },
          "execution_count": 24
        }
      ]
    },
    {
      "cell_type": "markdown",
      "metadata": {
        "id": "Z5hSUg0pdTyP",
        "colab_type": "text"
      },
      "source": [
        "# 2.5 Make List of Files to Predict Semantic Segmentation"
      ]
    },
    {
      "cell_type": "code",
      "metadata": {
        "id": "6VXyZcB7IJ2V",
        "colab_type": "code",
        "outputId": "e384c1d3-3d13-4b2f-a138-9bb21ccdab2d",
        "colab": {
          "base_uri": "https://localhost:8080/",
          "height": 34
        }
      },
      "source": [
        "src_imgs = []\n",
        "for i in range(NO_OF_FRAMES):\n",
        "    filename = \"output/src/frame_%d.jpg\"%i\n",
        "    img = cv2.imread(filename)\n",
        "    height, width, layers = img.shape\n",
        "    size = (width,height)\n",
        "    src_imgs.append(img)\n",
        "\n",
        "src_imgs = np.array(src_imgs).astype('uint8')\n",
        "mean_subtraction_value=127.5\n",
        "src_imgs = (src_imgs / mean_subtraction_value) - 1.\n",
        "print('src_imgs shape:', src_imgs.shape)"
      ],
      "execution_count": 27,
      "outputs": [
        {
          "output_type": "stream",
          "text": [
            "src_imgs shape: (10, 720, 720, 3)\n"
          ],
          "name": "stdout"
        }
      ]
    },
    {
      "cell_type": "markdown",
      "metadata": {
        "id": "cAHE_wR-ek2U",
        "colab_type": "text"
      },
      "source": [
        "# 2.6 Make Filter for Cat Prediction"
      ]
    },
    {
      "cell_type": "code",
      "metadata": {
        "id": "Bj3IZNhdeqAh",
        "colab_type": "code",
        "colab": {}
      },
      "source": [
        "def apply_filter(inp_mat, x):\n",
        "    inp_mat[inp_mat<x] *= 0\n",
        "    inp_mat[inp_mat>x] *= 0\n",
        "    inp_mat[inp_mat>0] = 255\n",
        "    return inp_mat"
      ],
      "execution_count": 0,
      "outputs": []
    },
    {
      "cell_type": "markdown",
      "metadata": {
        "id": "0CcxsjCYeRMe",
        "colab_type": "text"
      },
      "source": [
        "# 2.7 Predict Semantic Segmentation and Save to mask Directory"
      ]
    },
    {
      "cell_type": "code",
      "metadata": {
        "id": "DZSxh0gymxH9",
        "colab_type": "code",
        "outputId": "14bc1718-419e-41ce-ca6a-1461d0fabd00",
        "colab": {
          "base_uri": "https://localhost:8080/",
          "height": 187
        }
      },
      "source": [
        "number = 0\n",
        "for i in range(0,NO_OF_FRAMES):\n",
        "    res = deeplab_model.predict(np.expand_dims(src_imgs[i], 0))\n",
        "    labels = np.argmax(res.squeeze(), -1)\n",
        "    labels = apply_filter(labels, 8)\n",
        "    filename = BASE_DIR + \"output/mask/frame_%d.jpg\"%i\n",
        "    cv2.imwrite(filename, labels)\n",
        "    res = None\n",
        "    labels = None\n",
        "    print(\"Frame %d Prediction and Saving Done\"%i)"
      ],
      "execution_count": 29,
      "outputs": [
        {
          "output_type": "stream",
          "text": [
            "Frame 0 Prediction and Saving Done\n",
            "Frame 1 Prediction and Saving Done\n",
            "Frame 2 Prediction and Saving Done\n",
            "Frame 3 Prediction and Saving Done\n",
            "Frame 4 Prediction and Saving Done\n",
            "Frame 5 Prediction and Saving Done\n",
            "Frame 6 Prediction and Saving Done\n",
            "Frame 7 Prediction and Saving Done\n",
            "Frame 8 Prediction and Saving Done\n",
            "Frame 9 Prediction and Saving Done\n"
          ],
          "name": "stdout"
        }
      ]
    },
    {
      "cell_type": "code",
      "metadata": {
        "id": "aSF_1KxIINlG",
        "colab_type": "code",
        "colab": {}
      },
      "source": [
        "# from google.colab.patches import cv2_imshow"
      ],
      "execution_count": 0,
      "outputs": []
    },
    {
      "cell_type": "code",
      "metadata": {
        "id": "oAwoLdlSMuTt",
        "colab_type": "code",
        "colab": {}
      },
      "source": [
        "# from matplotlib import pyplot as plt\n",
        "# plt.imshow(resized_image)"
      ],
      "execution_count": 0,
      "outputs": []
    },
    {
      "cell_type": "markdown",
      "metadata": {
        "id": "Pro_XZvIZEEa",
        "colab_type": "text"
      },
      "source": [
        "# 3.1 Define Mask Center"
      ]
    },
    {
      "cell_type": "code",
      "metadata": {
        "id": "rHBIWcbKSrfN",
        "colab_type": "code",
        "outputId": "bcec0624-b643-47ea-a0de-169495d85941",
        "colab": {
          "base_uri": "https://localhost:8080/",
          "height": 34
        }
      },
      "source": [
        "center = (720//2, 720//2)\n",
        "center"
      ],
      "execution_count": 30,
      "outputs": [
        {
          "output_type": "execute_result",
          "data": {
            "text/plain": [
              "(360, 360)"
            ]
          },
          "metadata": {
            "tags": []
          },
          "execution_count": 30
        }
      ]
    },
    {
      "cell_type": "markdown",
      "metadata": {
        "id": "n3fbfVCsfWCZ",
        "colab_type": "text"
      },
      "source": [
        "### 3.2 Apply Poisson Image Blending from Source to Dest. Based on MASK"
      ]
    },
    {
      "cell_type": "code",
      "metadata": {
        "id": "RZeObaAgcvDT",
        "colab_type": "code",
        "outputId": "12031556-33b9-4f34-f95d-438cd8a8ba28",
        "colab": {
          "base_uri": "https://localhost:8080/",
          "height": 187
        }
      },
      "source": [
        "for i in range(NO_OF_FRAMES):\n",
        "    src = cv2.imread(\"output/src/frame_%d.jpg\"%i, cv2.IMREAD_UNCHANGED)\n",
        "    dst = cv2.imread(\"output/dest/frame_%d.jpg\"%i, cv2.IMREAD_UNCHANGED)\n",
        "    src_mask = cv2.imread(\"output/mask/frame_%d.jpg\"%i, cv2.IMREAD_UNCHANGED)\n",
        "    output = cv2.seamlessClone(src, dst, src_mask, center, cv2.NORMAL_CLONE)\n",
        "    cv2.imwrite(BASE_DIR + \"output/final/frame_%d.jpg\"%i, output)\n",
        "    print(\"Frame %d Blending Done\"%i)"
      ],
      "execution_count": 31,
      "outputs": [
        {
          "output_type": "stream",
          "text": [
            "Frame 0 Blending Done\n",
            "Frame 1 Blending Done\n",
            "Frame 2 Blending Done\n",
            "Frame 3 Blending Done\n",
            "Frame 4 Blending Done\n",
            "Frame 5 Blending Done\n",
            "Frame 6 Blending Done\n",
            "Frame 7 Blending Done\n",
            "Frame 8 Blending Done\n",
            "Frame 9 Blending Done\n"
          ],
          "name": "stdout"
        }
      ]
    },
    {
      "cell_type": "markdown",
      "metadata": {
        "id": "4mg7hLXwgT4r",
        "colab_type": "text"
      },
      "source": [
        "# 3.3 Saving All Frames to a Video"
      ]
    },
    {
      "cell_type": "code",
      "metadata": {
        "id": "ts4WqiTcd4uZ",
        "colab_type": "code",
        "colab": {}
      },
      "source": [
        "img_array = []\n",
        "for i in range(NO_OF_FRAMES):\n",
        "    filename = \"output/final/frame_%d.jpg\"%i\n",
        "    img = cv2.imread(filename)\n",
        "    height, width, layers = img.shape\n",
        "    size = (width,height)\n",
        "    img_array.append(img)\n",
        "\n",
        "out = cv2.VideoWriter('output/output.avi', cv2.VideoWriter_fourcc(*'DIVX'), 15, size)\n",
        "\n",
        "for i in range(NO_OF_FRAMES):\n",
        "    out.write(img_array[i])\n",
        "    print(\"Frame %d Writing to Video Done\"%i)\n",
        "out.release()"
      ],
      "execution_count": 0,
      "outputs": []
    }
  ]
}