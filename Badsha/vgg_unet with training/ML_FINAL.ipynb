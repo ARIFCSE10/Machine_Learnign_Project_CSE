{
  "nbformat": 4,
  "nbformat_minor": 0,
  "metadata": {
    "colab": {
      "name": "ML_FINAL.ipynb",
      "provenance": [],
      "collapsed_sections": [],
      "toc_visible": true
    },
    "kernelspec": {
      "name": "python3",
      "display_name": "Python 3"
    }
  },
  "cells": [
    {
      "cell_type": "markdown",
      "metadata": {
        "id": "J-uxdkQqWZM1",
        "colab_type": "text"
      },
      "source": [
        "# Install Libraries"
      ]
    },
    {
      "cell_type": "code",
      "metadata": {
        "id": "uTAafdgBzu9e",
        "colab_type": "code",
        "colab": {}
      },
      "source": [
        "!apt-get install python-opencv\n",
        "!pip install --upgrade theano\n",
        "!pip install --upgrade keras==2.1.5\n",
        "!pip install keras-segmentation"
      ],
      "execution_count": 0,
      "outputs": []
    },
    {
      "cell_type": "code",
      "metadata": {
        "id": "UTpZlsfZ7oZa",
        "colab_type": "code",
        "colab": {}
      },
      "source": [
        "!pip install matplotlib numpy scipy"
      ],
      "execution_count": 0,
      "outputs": []
    },
    {
      "cell_type": "markdown",
      "metadata": {
        "id": "ZOWCWtloXDeQ",
        "colab_type": "text"
      },
      "source": [
        "# Define Base Dir"
      ]
    },
    {
      "cell_type": "code",
      "metadata": {
        "id": "RdrVeZTzXGRe",
        "colab_type": "code",
        "colab": {}
      },
      "source": [
        "BASE_DIR = \"/content/\""
      ],
      "execution_count": 0,
      "outputs": []
    },
    {
      "cell_type": "markdown",
      "metadata": {
        "id": "OAhF0FJvWfM1",
        "colab_type": "text"
      },
      "source": [
        "# Import Libs"
      ]
    },
    {
      "cell_type": "code",
      "metadata": {
        "id": "16oZu7Ig0_GA",
        "colab_type": "code",
        "outputId": "caca34f8-aa4f-4ed4-fc6f-5f047b1851ef",
        "colab": {
          "base_uri": "https://localhost:8080/",
          "height": 34
        }
      },
      "source": [
        "from keras_segmentation.models.unet import vgg_unet\n",
        "vgg_unet"
      ],
      "execution_count": 14,
      "outputs": [
        {
          "output_type": "execute_result",
          "data": {
            "text/plain": [
              "<function keras_segmentation.models.unet.vgg_unet>"
            ]
          },
          "metadata": {
            "tags": []
          },
          "execution_count": 14
        }
      ]
    },
    {
      "cell_type": "markdown",
      "metadata": {
        "id": "y78NpopcWjx2",
        "colab_type": "text"
      },
      "source": [
        "# Init Models"
      ]
    },
    {
      "cell_type": "code",
      "metadata": {
        "id": "4PgjZ4IM6Npw",
        "colab_type": "code",
        "outputId": "9f71237d-332d-4970-ab83-67dc949cbb65",
        "colab": {
          "base_uri": "https://localhost:8080/",
          "height": 34
        }
      },
      "source": [
        "model = vgg_unet(n_classes=12 ,  input_height=416, input_width=608  )\n",
        "model"
      ],
      "execution_count": 15,
      "outputs": [
        {
          "output_type": "execute_result",
          "data": {
            "text/plain": [
              "<keras.engine.training.Model at 0x7f1acb04f780>"
            ]
          },
          "metadata": {
            "tags": []
          },
          "execution_count": 15
        }
      ]
    },
    {
      "cell_type": "markdown",
      "metadata": {
        "id": "KwKlYqsIWn2_",
        "colab_type": "text"
      },
      "source": [
        "# Train Model"
      ]
    },
    {
      "cell_type": "code",
      "metadata": {
        "id": "Wpi4v8zq6Yl8",
        "colab_type": "code",
        "colab": {}
      },
      "source": [
        "model.train(\n",
        "    train_images =  BASE_DIR + \"dataset1/images_prepped_train/\",\n",
        "    train_annotations = BASE_DIR + \"dataset1/annotations_prepped_train/\",\n",
        "    checkpoints_path = BASE_DIR + \"vgg_unet_1\" , epochs=5\n",
        ")"
      ],
      "execution_count": 0,
      "outputs": []
    },
    {
      "cell_type": "markdown",
      "metadata": {
        "id": "koFlIZGnWtEM",
        "colab_type": "text"
      },
      "source": [
        "# Predict and Show Output"
      ]
    },
    {
      "cell_type": "code",
      "metadata": {
        "id": "vp9vD7T9WwcM",
        "colab_type": "code",
        "colab": {}
      },
      "source": [
        "out = model.predict_segmentation(\n",
        "    inp= BASE_DIR + \"dataset1/images_prepped_test/0016E5_07965.png\",\n",
        "    out_fname= BASE_DIR + \"tmp/out.png\"\n",
        ")\n",
        "\n",
        "import matplotlib.pyplot as plt\n",
        "plt.imshow(out)"
      ],
      "execution_count": 0,
      "outputs": []
    },
    {
      "cell_type": "markdown",
      "metadata": {
        "id": "sJ9Vmqa2W4hh",
        "colab_type": "text"
      },
      "source": [
        "# Saving and Loading a Model"
      ]
    },
    {
      "cell_type": "code",
      "metadata": {
        "id": "s2CABn8H7xKk",
        "colab_type": "code",
        "colab": {}
      },
      "source": [
        "!pip install PyYAML"
      ],
      "execution_count": 0,
      "outputs": []
    },
    {
      "cell_type": "code",
      "metadata": {
        "id": "mPYlacspWEtP",
        "colab_type": "code",
        "colab": {}
      },
      "source": [
        "from keras.models import model_from_yaml"
      ],
      "execution_count": 0,
      "outputs": []
    },
    {
      "cell_type": "code",
      "metadata": {
        "id": "3eVxKnWhWLgh",
        "colab_type": "code",
        "colab": {}
      },
      "source": [
        "# serialize model to YAML\n",
        "model_yaml = model.to_yaml()\n",
        "with open( BASE_DIR + \"model.yaml\", \"w\") as yaml_file:\n",
        "    yaml_file.write(model_yaml)\n",
        "# serialize weights to HDF5\n",
        "model.save_weights(BASE_DIR + \"model.h5\")\n",
        "print(\"Saved model to disk\")"
      ],
      "execution_count": 0,
      "outputs": []
    },
    {
      "cell_type": "code",
      "metadata": {
        "id": "o5EcABMFWo_A",
        "colab_type": "code",
        "colab": {
          "base_uri": "https://localhost:8080/",
          "height": 34
        },
        "outputId": "803e0168-5cea-40f6-fe8f-89a0a8ccccaa"
      },
      "source": [
        "loaded_model = vgg_unet(n_classes=12)\n",
        "loaded_model.load_weights(BASE_DIR + \"model.h5\")\n",
        "print(\"Loaded model from disk\")"
      ],
      "execution_count": 16,
      "outputs": [
        {
          "output_type": "stream",
          "text": [
            "Loaded model from disk\n"
          ],
          "name": "stdout"
        }
      ]
    },
    {
      "cell_type": "code",
      "metadata": {
        "id": "cV3-JcTgWtRd",
        "colab_type": "code",
        "colab": {}
      },
      "source": [
        "out = model.predict_segmentation(\n",
        "    inp= BASE_DIR + \"dataset1/images_prepped_test/0016E5_07965.png\",\n",
        "    out_fname= BASE_DIR + \"/tmp/out.png\"\n",
        ")\n",
        "\n",
        "import matplotlib.pyplot as plt\n",
        "plt.imshow(out)"
      ],
      "execution_count": 0,
      "outputs": []
    },
    {
      "cell_type": "code",
      "metadata": {
        "id": "qsLjmbTU7H8H",
        "colab_type": "code",
        "colab": {}
      },
      "source": [
        "!cp /content/model.h5 \"/content/drive/My Drive/NSU-MSC/model.h5\""
      ],
      "execution_count": 0,
      "outputs": []
    },
    {
      "cell_type": "markdown",
      "metadata": {
        "id": "CamvMoSMZT20",
        "colab_type": "text"
      },
      "source": [
        "# Mount Drive"
      ]
    },
    {
      "cell_type": "code",
      "metadata": {
        "id": "ggEDR9IoYSbx",
        "colab_type": "code",
        "colab": {
          "base_uri": "https://localhost:8080/",
          "height": 122
        },
        "outputId": "cde512f6-b919-415c-ccb2-aa79b5bd0d8d"
      },
      "source": [
        "from google.colab import drive\n",
        "drive.mount('/content/drive')"
      ],
      "execution_count": 6,
      "outputs": [
        {
          "output_type": "stream",
          "text": [
            "Go to this URL in a browser: https://accounts.google.com/o/oauth2/auth?client_id=947318989803-6bn6qk8qdgf4n4g3pfee6491hc0brc4i.apps.googleusercontent.com&redirect_uri=urn%3aietf%3awg%3aoauth%3a2.0%3aoob&response_type=code&scope=email%20https%3a%2f%2fwww.googleapis.com%2fauth%2fdocs.test%20https%3a%2f%2fwww.googleapis.com%2fauth%2fdrive%20https%3a%2f%2fwww.googleapis.com%2fauth%2fdrive.photos.readonly%20https%3a%2f%2fwww.googleapis.com%2fauth%2fpeopleapi.readonly\n",
            "\n",
            "Enter your authorization code:\n",
            "··········\n",
            "Mounted at /content/drive\n"
          ],
          "name": "stdout"
        }
      ]
    },
    {
      "cell_type": "markdown",
      "metadata": {
        "id": "lw0-kNOpZBEh",
        "colab_type": "text"
      },
      "source": [
        "# Copy Trained Model from Drive"
      ]
    },
    {
      "cell_type": "code",
      "metadata": {
        "id": "AI2UEUvPYPMD",
        "colab_type": "code",
        "colab": {}
      },
      "source": [
        "!cp \"/content/drive/My Drive/NSU-MSC/model.h5\" /content/model.h5 "
      ],
      "execution_count": 0,
      "outputs": []
    },
    {
      "cell_type": "markdown",
      "metadata": {
        "id": "L1XVFandY6D9",
        "colab_type": "text"
      },
      "source": [
        "# Copy Dataset From Drive"
      ]
    },
    {
      "cell_type": "code",
      "metadata": {
        "id": "xjpytmNtYm5o",
        "colab_type": "code",
        "colab": {}
      },
      "source": [
        "!cp \"/content/drive/My Drive/NSU-MSC/ML/Collaborate/dataset1.zip\" /content/dataset1.zip"
      ],
      "execution_count": 0,
      "outputs": []
    },
    {
      "cell_type": "markdown",
      "metadata": {
        "id": "ww1CsD81ZGHv",
        "colab_type": "text"
      },
      "source": [
        "# Unzip Dataset"
      ]
    },
    {
      "cell_type": "code",
      "metadata": {
        "id": "oe5lnDc_ZIuo",
        "colab_type": "code",
        "colab": {}
      },
      "source": [
        "!unzip /content/dataset1.zip\n",
        "!rm /content/dataset1.zip"
      ],
      "execution_count": 0,
      "outputs": []
    }
  ]
}